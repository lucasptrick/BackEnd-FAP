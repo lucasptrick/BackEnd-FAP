{
 "cells": [
  {
   "attachments": {},
   "cell_type": "markdown",
   "metadata": {},
   "source": [
    "Aula 02 - LOP"
   ]
  },
  {
   "cell_type": "code",
   "execution_count": 1,
   "metadata": {},
   "outputs": [
    {
     "name": "stdout",
     "output_type": "stream",
     "text": [
      "Entrada | Saída\n",
      "64 | 4.0\n"
     ]
    }
   ],
   "source": [
    "#Ex:1\n",
    "entrada = int(input(\"Digite o valor:\"))\n",
    "print(f\"Entrada | Saída\")\n",
    "print(f\"{entrada} | {round(entrada**(1/3), 14)}\")"
   ]
  },
  {
   "cell_type": "code",
   "execution_count": null,
   "metadata": {},
   "outputs": [],
   "source": [
    "#Ex:2\n",
    "altura = int(input(\"Digite a altura:\"))\n",
    "comprimento = int(input(\"Digite o comprimento:\"))\n",
    "largura = int(input(\"Digite a largura:\"))\n",
    "\n",
    "print(f\"\\nAltura | Comprimento | Largura | Área da Sala | Volume | Área das Paredes\")\n",
    "print(f\"{altura} | {comprimento} | {largura} | {largura*comprimento} | {altura*comprimento*largura} | {(2*altura+largura)+(2*altura*comprimento)}\")"
   ]
  },
  {
   "cell_type": "code",
   "execution_count": null,
   "metadata": {},
   "outputs": [],
   "source": [
    "#Ex:3\n",
    "horas = int(input(\"Digite a hora atual:\"))\n",
    "minutos = int(input(\"Digite o minuto atual:\"))\n",
    "segundos = int(input(\"Digite o segundo atual:\"))\n",
    "\n",
    "totalSegundos = (horas*3600) + (minutos * 60) + segundos\n",
    "\n",
    "print(f\"Se passaram {totalSegundos}seg desde a última meia-hora.\")"
   ]
  },
  {
   "attachments": {},
   "cell_type": "markdown",
   "metadata": {},
   "source": [
    "Aula 03 - LOP"
   ]
  },
  {
   "cell_type": "code",
   "execution_count": null,
   "metadata": {},
   "outputs": [],
   "source": [
    "#Ex:1\n",
    "entrada = input(\"Digite sua data de nascimento(dd/m/aaaa): \")\n",
    "mes = {1:\"janeiro\",\n",
    "       2:\"fevereiro\",\n",
    "       3:\"março\",\n",
    "       4:\"abril\",\n",
    "       5:\"maio\",\n",
    "       6:\"junho\",\n",
    "       7:\"julho\",\n",
    "       8:\"agosto\",\n",
    "       9:\"setembro\",\n",
    "       10:\"outubro\",\n",
    "       11:\"novembro\",\n",
    "       12:\"dezembro\"}\n",
    "\n",
    "print(f\"{entrada[:2]} de {mes[int(entrada[3:4])]} de {entrada[5:]}\")"
   ]
  },
  {
   "cell_type": "code",
   "execution_count": null,
   "metadata": {},
   "outputs": [],
   "source": [
    "#Ex:2\n",
    "entrada = input(\"Digite uma frase: \").lower()\n",
    "contEspacos = 0\n",
    "contVogais = {'a': 0, 'e': 0, 'i': 0, 'o': 0, 'u': 0}\n",
    "\n",
    "for char in entrada:\n",
    "  if char == ' ':\n",
    "    contEspacos += 1\n",
    "  elif char in contVogais:\n",
    "    contVogais[char] += 1\n",
    "\n",
    "print(f\"Espaços em branco: {contEspacos}\\nQuantidade de vogais digitadas:\\na = {contVogais['a']}\\ne = {contVogais['e']}\\ni = {contVogais['i']}\\no = {contVogais['o']}\\nu = {contVogais['u']}\")"
   ]
  },
  {
   "cell_type": "code",
   "execution_count": null,
   "metadata": {},
   "outputs": [],
   "source": [
    "#Ex:3\n",
    "entrada = input(\"Digite uma frase: \").lower()\n",
    "entradaSemEspacos = ''.join(char for char in entrada if char.isalnum())\n",
    "palindromo = entradaSemEspacos == entradaSemEspacos[::-1]\n",
    "\n",
    "print(f\"A frase: {entrada} é palíndromo.\" if palindromo else f\"A frase: {entrada} não é um palíndromo.\")"
   ]
  },
  {
   "cell_type": "code",
   "execution_count": null,
   "metadata": {},
   "outputs": [],
   "source": [
    "#Ex:4\n",
    "unidades = [\"\", \"um\", \"dois\", \"três\", \"quatro\", \"cinco\", \"seis\", \"sete\", \"oito\", \"nove\"]\n",
    "dezenas = [\"\", \"dez\", \"vinte\", \"trinta\", \"quarenta\", \"cinquenta\", \"sessenta\", \"setenta\", \"oitenta\", \"noventa\"]\n",
    "dez_a_dezenove = [\"dez\", \"onze\", \"doze\", \"treze\", \"quatorze\", \"quinze\", \"dezesseis\", \"dezessete\", \"dezoito\", \"dezenove\"]\n",
    "\n",
    "def numero_por_extenso(numero):\n",
    "    if 0 <= numero <= 9:\n",
    "        return unidades[numero]\n",
    "    elif 10 <= numero <= 19:\n",
    "        return dez_a_dezenove[numero - 10]\n",
    "    elif 20 <= numero <= 99:\n",
    "        dezena = numero // 10\n",
    "        unidade = numero % 10\n",
    "        if unidade == 0:\n",
    "            return dezenas[dezena]\n",
    "        else:\n",
    "            return f\"{dezenas[dezena]} e {unidades[unidade]}\"\n",
    "    else:\n",
    "        return \"Número fora do intervalo permitido.\"\n",
    "\n",
    "\n",
    "entrada = int(input(\"Digite um número até 99: \"))\n",
    "\n",
    "\n",
    "if 0 <= entrada <= 99:\n",
    "    print(f\"O número {entrada} por extenso é: {numero_por_extenso(entrada)}\")\n",
    "else:\n",
    "    print(\"Número fora do intervalo permitido. Por favor, digite um número entre 0 e 99.\")\n"
   ]
  },
  {
   "cell_type": "code",
   "execution_count": null,
   "metadata": {},
   "outputs": [],
   "source": [
    "#Ex:5\n",
    "entrada = input(\"Digite seu nome: \").upper()\n",
    "entradaTrasPraFrente = entrada[::-1] \n",
    "print(f\"Nome: {entradaTrasPraFrente}\")"
   ]
  },
  {
   "cell_type": "code",
   "execution_count": null,
   "metadata": {},
   "outputs": [],
   "source": [
    "#Ex:6\n",
    "entrada = input(\"Digite um texto: \")\n",
    "\n",
    "def removerEspaco(txt):\n",
    "  return txt.replace(\" \", \"\")\n",
    "\n",
    "print(f\"Frase sem espaços: {removerEspaco(entrada)}\")"
   ]
  }
 ],
 "metadata": {
  "kernelspec": {
   "display_name": "Python 3",
   "language": "python",
   "name": "python3"
  },
  "language_info": {
   "codemirror_mode": {
    "name": "ipython",
    "version": 3
   },
   "file_extension": ".py",
   "mimetype": "text/x-python",
   "name": "python",
   "nbconvert_exporter": "python",
   "pygments_lexer": "ipython3",
   "version": "3.11.9"
  },
  "orig_nbformat": 4
 },
 "nbformat": 4,
 "nbformat_minor": 2
}
