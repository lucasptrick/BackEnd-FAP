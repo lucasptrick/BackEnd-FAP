{
  "nbformat": 4,
  "nbformat_minor": 0,
  "metadata": {
    "colab": {
      "provenance": []
    },
    "kernelspec": {
      "name": "python3",
      "display_name": "Python 3"
    }
  },
  "cells": [
    {
      "cell_type": "markdown",
      "metadata": {
        "id": "5rhJ9qdHXV-J"
      },
      "source": [
        "# Estrutura de Seleção\n",
        "\n",
        "Nem sempre todas as linhas dos programas serão executadas. Muitas vezes, será mais interessante decidir que partes do programa devem ser executadas com base em resultados de uma condição. A base dessas decisões consitirá em expressões lógicas que permitam representar escolhas em programas.\n",
        "\n",
        ">>![alt text](http://www.hotelroomsearch.net/im/hotels/gb/two-ways-20.jpg)\n",
        "\n",
        "\n"
      ]
    },
    {
      "cell_type": "markdown",
      "metadata": {
        "id": "6pzpNTEvs73-"
      },
      "source": [
        "## if\n",
        "\n",
        "As condições servem para selecionar quando uma parte do programa deve ser ativada e quando deve ser simplesmente ignorada. Em Python, a estrutura de decisão é o **if**. Seu formato é apresentado abaixo:\n",
        "\n",
        "```\n",
        "if <condiçao> :\n",
        "  comando caso a condição\n",
        "  seja verdadeira\n",
        "```\n",
        "\n",
        "O **if** nada mais é que o nosso **se**. Podemos então entendê-lo em português da seguinte forma: se a condição for verdadeira, faça alguma coisa.\n",
        "\n",
        "Vejamos exemplos:"
      ]
    },
    {
      "cell_type": "code",
      "metadata": {
        "id": "chO8xPdJXJye",
        "colab": {
          "base_uri": "https://localhost:8080/",
          "height": 106
        },
        "outputId": "47091b9f-bb57-442f-c7e3-423273bb9ad1"
      },
      "source": [
        "valor1 = int(input(\"Primeiro Valor: \"))\n",
        "\n",
        "valor2 = int(input(\"Segundo Valor: \"))\n",
        "\n",
        "if (valor1 > valor2): #1\n",
        "  print (\"O primeiro número é maior!\") #2\n",
        "\n",
        "if (valor1 < valor2): #3\n",
        "  print (\"O segundo número é maior\") #4"
      ],
      "execution_count": null,
      "outputs": [
        {
          "output_type": "error",
          "ename": "SyntaxError",
          "evalue": "invalid syntax (<ipython-input-1-140b05b6c897>, line 2)",
          "traceback": [
            "\u001b[0;36m  File \u001b[0;32m\"<ipython-input-1-140b05b6c897>\"\u001b[0;36m, line \u001b[0;32m2\u001b[0m\n\u001b[0;31m    valor1 = int input(\"Primeiro Valor: \")\u001b[0m\n\u001b[0m                 ^\u001b[0m\n\u001b[0;31mSyntaxError\u001b[0m\u001b[0;31m:\u001b[0m invalid syntax\n"
          ]
        }
      ]
    },
    {
      "cell_type": "markdown",
      "metadata": {
        "id": "uLbOgN1mZ3Ib"
      },
      "source": [
        "Na linha 4, temos a condição **a > b**. Essa expressão será avaliada, e, se o seu resultado for verdadeiro, será executada o comando na linha 5. Se for falso, a linha 5 será ignorada. O mesmo acontece para a condição **b > a** da linha 7. Se o resultado for verdadeiro, a linha 8 será executada. Se for falso, ignorada.\n",
        "\n",
        "A sequência de execução do programa é alterada de acordo com os valores digitados como primeiro e segundo valor. Execute-o duas vezes. Na primeira vez, digite um valor maior no primeiro e menor no segundo. Na segunda vez, inverta esses valores e verifique se a mensagem na tela também mudou.\n",
        "\n",
        "\n",
        "> O que acontece se o primeiro e segundo valor for igual?\n",
        "\n",
        "\n",
        "Vejamos outro exemplo, onde solicitamos a idade do carro do usuário, e em seguida, escrevemos novo se o carro tiver menos de três anos; ou vejo, caso contrário.\n"
      ]
    },
    {
      "cell_type": "code",
      "metadata": {
        "id": "gKp017SvkIgG"
      },
      "source": [
        "idade = int(input(\"Digite a idade do seu carro: \"))\n",
        "\n",
        "if (idade <= 3):\n",
        "  print (\"Seu carro é novo\")\n",
        "\n",
        "if (idade > 3):\n",
        "  print (\"Seu carro é velho\")"
      ],
      "execution_count": null,
      "outputs": []
    },
    {
      "cell_type": "markdown",
      "metadata": {
        "id": "p5rDIEm9kbf5"
      },
      "source": [
        "Execute o programa acima e verifique o que aparece na tela. Você pode executá-lo várias vezes com as seguintes idades: 1, 3 e 5. A primeira condição é *idade <= 3*. Essa condição decide se a linha 4 será ou não executada. Como é uma condição simples, podemos entender que só exibiremos a mensagem do carro novo para as idades o, 1, 2, 3.  A segunda condição, *idade > 3*, é o inverso da primeira. Se você obsercar de perto, não há um só número que torne ambas verdadeiras ao mesmo tempo. A segunda decisão é responsável por decidir a impressão da mensagem do carro velho (linha 7).\n",
        "\n",
        "Embora óbvio que um carro não pode ter valores negativos como idade, o programa não trata desse problema. Vamos alterá-lo mais adiante para verificar valores inválidos.\n",
        "\n",
        "Agora vamos fazer o seguinte exercício:\n"
      ]
    },
    {
      "cell_type": "code",
      "metadata": {
        "id": "2A6qrhv1lw4T",
        "outputId": "9b1f13e5-1dc5-4af0-84a5-39e63cbe7940",
        "colab": {
          "base_uri": "https://localhost:8080/",
          "height": 52
        }
      },
      "source": [
        "# Escreva um programa que pergunte a velocidade do carro de um usuário. Caso ultrapasse 80 km/h,\n",
        "# exiba uma mensagem dizendo que o usuário foi multado. Nesse caso, exiba o valor da multa,\n",
        "# cobrando R$ 5 por km acima de 80 km/h.\n",
        "\n",
        "velocidade = int(input(\"Velocidade do carro: \"))\n",
        "if (velocidade > 80):\n",
        "  print (\"Voce foi multado e a multa eh %d\" % ((velocidade - 80) * 5 ))\n",
        "\n",
        "\n"
      ],
      "execution_count": null,
      "outputs": [
        {
          "output_type": "stream",
          "text": [
            "Velocidade do carro: 90\n",
            "Voce foi multado e a multa eh 50\n"
          ],
          "name": "stdout"
        }
      ]
    },
    {
      "cell_type": "markdown",
      "metadata": {
        "id": "j0INfDaOl7IB"
      },
      "source": [
        "Um bloco de código em Python pode ter mais de uma linha, embora o último exemplo mostre apenas dois blocos com uma linha em cada. Se você precisar de duas ou mais no mesmo bloco, escreva essas linhas na mesma direção ou na mesma coluna da primeira linha do bloco (identação). Isso basta para representá-lo."
      ]
    },
    {
      "cell_type": "code",
      "metadata": {
        "id": "pFHj0WjBmR1n"
      },
      "source": [
        "idade = int(input(\"Digite a idade do seu carro: \"))\n",
        "\n",
        "if (idade <= 3):\n",
        "  print (\"Seu carro é novo\")\n",
        "  print (\"Mas vamos fazer a revisão!\")\n",
        "\n",
        "if (idade > 3):\n",
        "  print (\"Seu carro é velho\")\n",
        "  print (\"Mas nem tanto!\")"
      ],
      "execution_count": null,
      "outputs": []
    },
    {
      "cell_type": "markdown",
      "metadata": {
        "id": "RkvDqV7Fmebg"
      },
      "source": [
        "Um problema comum é quando temos que pagar imposto de renda. Normalmente, pagamos Imposto de Renda por faixa de salário. Imagine que para salários menores que R\\$ 1000,00 não teríamos que pagar imposto. Imagine que para salários entre R\\$ 1000,00 e R\\$ 3000,00 pagaríamos 20\\%. Acima desses valores, a alíquota seria de 35\\%. Esse problea se pareceria muito com o anterior, salvo que se o imposto não fosse cobrado diferentemente para cada faixa, ou seja, quem ganha R\\$ 4000,00 tem os primeiros R\\$ 1000,00 isentos de imposto; com o montante entre R\\$ 1000,00 e R$ 3000,00 pagando 20\\%, e o restante pagando 35\\%"
      ]
    },
    {
      "cell_type": "code",
      "metadata": {
        "id": "gyaf6JbvoJt3"
      },
      "source": [
        "salario = float(input(\"Digite o salário para cálculo do imposto: \"))\n",
        "base = salario\n",
        "imposto = 0\n",
        "\n",
        "if (base > 3000):\n",
        "  imposto = imposto + ((base - 3000) * 0.35)\n",
        "  base = 3000\n",
        "\n",
        "if (base > 1000):\n",
        "  imposto = imposto + ((base - 1000) * 0.20)\n",
        "\n",
        "print (\"Salário : R$ %6.2f Imposto a pagar: R$ %6.2f\" % (salario, imposto))"
      ],
      "execution_count": null,
      "outputs": []
    },
    {
      "cell_type": "markdown",
      "metadata": {
        "id": "kzeRYpLWqEat"
      },
      "source": [
        "Quais são os resultados para o salário de R\\$ 500,00; R\\$ 1500,00; R\\$ 3000,00 e R\\$ 5000,00."
      ]
    },
    {
      "cell_type": "markdown",
      "metadata": {
        "id": "VoGw1zCiozTO"
      },
      "source": [
        "\n",
        "Na linha 2 temos a varíavel *base* recebendo uma cópia de salário. Isso é necessário porque, quando atribuímos um novo valor para uma variável, o valor anterior é substituído (e perdido se não guardamos em outro lugar). Como vamos utilizar o valor do salário digitado para exibi-lo na tela, não podemos perdê-lo; por isso, a necessidade de uma varíavel auxiliar chamada aqui de *base*.\n",
        "\n",
        "Na linha 5 verificamos se *base* é maior que R$ 3000,00. Se verdadeiro, executamos as linhas 6 e 7. Na linha 6, calculamos 35\\% do valor superior a R\\$ 3000,00. O resultado é armazenado na variável *imposto*. Como essa variável contém o valor a pagar para essa quantia, atualizamos o valor da base para R\\$ 3000,00 (linha 7), pois o que ultrapassa desse valor já foi retirado."
      ]
    },
    {
      "cell_type": "markdown",
      "metadata": {
        "id": "i_BrpQr-p_RQ"
      },
      "source": [
        "**Exercício**: Escreva um programa que pergunte o salário do funcionário e calcule o valor do aumento. Para salários superiores a R\\$ 1250,00, calcule um aumento de 10\\%. Para inferiores ou iguais, de 15%."
      ]
    },
    {
      "cell_type": "code",
      "metadata": {
        "id": "BDz_dvE7p-WM"
      },
      "source": [
        "# Escreva um programa que pergunte o salário do funcionário e calcule o valor do aumento.\n",
        "# Para salários superiores a R\\$ 1250,00, calcule um aumento de 10\\%. Para inferiores ou iguais, de 15%."
      ],
      "execution_count": null,
      "outputs": []
    },
    {
      "cell_type": "markdown",
      "metadata": {
        "id": "DczmFWV7qxYk"
      },
      "source": [
        "## else\n",
        "\n",
        "Quando há problemas, como mensagem do carro velho (logo acima), onde a segunda condição é simplesmente o inverso da primeira, podemos usar outra forma de **if** para simplificar os programas. Essa forma é a cláusula **else** para especificar o que fazer caso o resultado da avaliação da condição seja falso, sem precisarmos de um novo **if**. Vejamos como ficaria o programa reescrito para usar **else** no exemplo abaixo:"
      ]
    },
    {
      "cell_type": "code",
      "metadata": {
        "id": "BHIOVgPArQ5n"
      },
      "source": [
        "idade = int(input(\"Digite a idade de seu carro: \"))\n",
        "if (idade <= 3):\n",
        "  print (\"Seu carro é novo\")\n",
        "else:\n",
        "  print (\"Seu carro é velho\")"
      ],
      "execution_count": null,
      "outputs": []
    },
    {
      "cell_type": "markdown",
      "metadata": {
        "id": "IbTz5g8YrhLO"
      },
      "source": [
        "Veja que  na linha 4 utilizamos o \":\" após o **else**. Isso é necessário porque **else** inicia um bloco, da mesma forma que o **if**. É importante notar que devemos escrever **else** na mesma coluna do **if**, ou seja, com o mesmo recuo (indetação). Asssim, o interpretador reconhece o que o **else** se refere a um determinado **if**. Você obterá um erro caso não alinhe essas duas estruturas na mesma coluna.\n",
        "\n",
        "A vantagem de usar **else** é deixar os programas mais claros, uma vez que podemos expressar o que fazer caso a condição *idade <= 3* seja falsa.\n",
        "\n",
        "**Exercício**: Escreva um programa que pergunte a distância que um passageiro deseja percorrer em km. Calcule o preço da passagem, cobrando R\\$ 0,50 por km para viagems de até 200km, e R$ 0,45 para viagens mais longas."
      ]
    },
    {
      "cell_type": "code",
      "metadata": {
        "id": "TAJhp2HVsixR"
      },
      "source": [
        "# Escreva um programa que pergunte a distância que um passageiro deseja percorrer em km.\n",
        "# Calcule o preço da passagem, cobrando R\\$ 0,50 por km para viagems de até 200km, e R$ 0,45 para viagens mais longas."
      ],
      "execution_count": null,
      "outputs": []
    },
    {
      "cell_type": "markdown",
      "metadata": {
        "id": "Wlp2aB3xsvC2"
      },
      "source": [
        "## Estrutura Aninhadas\n",
        "\n",
        "Nem sempre nossos programas serão tão simples. Muitas vezes, precisaremos aninhar vários **if** para obter o comportamento desejado do programa. Aninhar, nesse caso, é utilizar um **if** dentro do outro.\n",
        "\n",
        "Vejamos o exemplo de calcular a conta de um telefone celular da empresa *Tchau*. Os planos da empresa *Tchau* são bem interessantes e oferecem preços diferenciados de acordo com a quantidade de minutos usados por mês. Abaixo de 200 minutos, a empresa cobra R\\$ 0,20 por minuto. Entre 200 e 400 minutos, o preço é de R\\$ 0,18. Acima de 400 minutos, o preço por minuto é de R$ 0,15. O programa abaixo resolve o problema."
      ]
    },
    {
      "cell_type": "code",
      "metadata": {
        "id": "k-GeSmk0t58R"
      },
      "source": [
        "minutos=int(input(\"Quantos minutos você utilizou este mês: \"))\n",
        "\n",
        "if (minutos < 200):\n",
        "  preco = 0.20\n",
        "else:\n",
        "  if (minutos < 400):\n",
        "    preco = 0.18\n",
        "  else:\n",
        "    preco = 0.15\n",
        "\n",
        "print (\"Você vai pagar este mês: R$%6.2f\" % (minutos*preco))"
      ],
      "execution_count": null,
      "outputs": []
    },
    {
      "cell_type": "markdown",
      "metadata": {
        "id": "rZPb-shUuWOX"
      },
      "source": [
        "Na linha 3 temos a primeira condição: *minutos < 200*. Se a quantidade de minutos for menor que 200, atribuímos 0,20 ao preço na linha 4. Até aqui, nada de novo. Observe que **if** da linha 6 está dentro do **else** da linha anterior: dizemos que está aninhado dentro do **else**. A condição da linha 8, *minutos < 400*, decide se vamos exexutar a linha 7 ou a 8. Observe que **else** da linha 8 está aninhado com o **if** da linha 6. No final, calculamos e imprimimos o preço na tela. Lembre-se que o alinhamento do texo é muito importante em python."
      ]
    },
    {
      "cell_type": "markdown",
      "metadata": {
        "id": "ZJ587swgvTyy"
      },
      "source": [
        "Vejamos, por exemplo, a situação em que cinco categorias são necessárias. Façamos um programa que leia a categoria de um produto e determine o preço através da informação abaixo:\n",
        "\n",
        "categoria - preço\n",
        "1 - 10,00\n",
        "2 - 18,00\n",
        "3 - 23,00\n",
        "4 - 26,00\n",
        "5 - 31,00\n",
        "\n"
      ]
    },
    {
      "cell_type": "code",
      "metadata": {
        "id": "wkyPrjo1vw0u"
      },
      "source": [
        "categoria = int(input(\"Digite a categoria do produto: \"))\n",
        "if (categoria == 1):\n",
        "  preco = 10\n",
        "else:\n",
        "  if (categoria == 2):\n",
        "    preco = 18\n",
        "  else:\n",
        "    if (categoria == 3):\n",
        "      preco = 23\n",
        "    else:\n",
        "      if (categoria == 4):\n",
        "        preco = 26\n",
        "      else:\n",
        "        if (categoria == 5):\n",
        "          preco = 31\n",
        "        else:\n",
        "          print (\"Categoria inválida, digite um valor entre 1 a 5!\")\n",
        "          preco = 0\n",
        "\n",
        "print (\"O preço do produto é R$%6.2f\" % preco)"
      ],
      "execution_count": null,
      "outputs": []
    },
    {
      "cell_type": "markdown",
      "metadata": {
        "id": "eN9AuUk1wbIB"
      },
      "source": [
        "Observe que o alinhamento se tornou um grande pesadelo, uma vez que temos que deslogar à direita a cada **else**.\n",
        "\n",
        "Quando lermos um programa com estrutura aninhadas, devemos pretar muita atenção para visualizar corretamente os blocos."
      ]
    },
    {
      "cell_type": "markdown",
      "metadata": {
        "id": "ocKGYThVw7GX"
      },
      "source": [
        "## elif\n",
        "\n",
        "Python apresenta uma solução muito interessante para o problema de múltipos *if*s aninhados. A cláusula *elif* substitui um par **else if**, mas sem criar outro nível de estrutura, evitando problemas de deslocamento descessesários à direita.\n",
        "\n",
        "Dessa vez vamos usar os **elif**s . Veja o resultado:"
      ]
    },
    {
      "cell_type": "code",
      "metadata": {
        "id": "gAlCrMS5xa69"
      },
      "source": [
        "categoria = int(input(\"Digite a categoria do produto: \"))\n",
        "if (categoria == 1):\n",
        "  preco = 10\n",
        "elif (categoria == 2):\n",
        "  preco = 18\n",
        "elif (categoria == 3):\n",
        "  preco = 23\n",
        "elif (categoria == 4):\n",
        "  preco = 26\n",
        "elif (categoria == 5):\n",
        "  preco = 31\n",
        "else:\n",
        "  print (\"Categoria inválida, digite um valor entre 1 a 5!\")\n",
        "  preco = 0\n",
        "\n",
        "print (\"O preço do produto é R$%6.2f\" % preco)"
      ],
      "execution_count": null,
      "outputs": []
    },
    {
      "cell_type": "code",
      "metadata": {
        "id": "AUObxc00x-ct"
      },
      "source": [
        "# Escreva um programa que leia dos números e que pergunte qual a operação que você deseja realizar.\n",
        "# Você deve poder calcular a soma (+), subtração (-), multiplicação (*) e divisãp (/). Exiba o resultado\n",
        "# da operação solicitada\n"
      ],
      "execution_count": null,
      "outputs": []
    },
    {
      "cell_type": "code",
      "metadata": {
        "id": "2D0FxFk_yG4C"
      },
      "source": [
        "# Escreva um programa que calcule o preço a pagar pelo fornecimento de energia elétrica .\n",
        "# Pergunte a quantidade de kWh consumida e o tipo de instação: R para residência, I para\n",
        "# indústrias e C para comércios. Calcule os preços a pagar de acordo com a tabela a seguir:\n",
        "\n",
        "# Residencial\n",
        "# Até 500 kWh -> 0,40 o kWh\n",
        "# Acima de 500 kWh -> 0,65 o kWh\n",
        "\n",
        "# Comercial\n",
        "# Até 1000 kWh -> 0,55 o kWh\n",
        "# Acima de 1000 kWh -> 0,60 o kWh\n",
        "\n",
        "\n",
        "# Industrial\n",
        "# Até 5000 kWh -> 0,55 o kWh\n",
        "# Acima de 5000 kWh -> 0,60 o kWh"
      ],
      "execution_count": null,
      "outputs": []
    },
    {
      "cell_type": "markdown",
      "metadata": {
        "id": "CKv3VnOFzrAh"
      },
      "source": [
        "##Exercícios\n",
        "\n",
        "Um edital de concorrência pública avaliará propostas considerando três critérios: qualidade, preço e prazo. Cada um dos três critérios recebe uma nota de 0 a 10. Escreva um programa que leia as notas de preço, prazo e qualidade de uma proposta e escreva sua nota geral, baseando-se nos seguintes critérios:\n",
        "\n",
        "1. Se a nota da qualidade for inferior a 7, a nota geral será 0 independentemente dos outros fatores.\n",
        "2. Se a nota da qualidade for igual ou superior a 7, e a nota do preço for igual ou superior a 7, então a nota geral será a média das três notas, ou seja (qualidade + preço + prazo) / 3\n",
        "3. Se a nota da qualidade for igual ou superior a 7 e a nota do preço for inferior a 7, então a nota geral será a média das três notas, mas com peso 2 para a nota do preço, ou seja, (qualidade + 2*preço + prazo)/4\n"
      ]
    },
    {
      "cell_type": "code",
      "metadata": {
        "id": "UNT9rV0T1dJQ"
      },
      "source": [],
      "execution_count": null,
      "outputs": []
    },
    {
      "cell_type": "markdown",
      "metadata": {
        "id": "VajO5HV51dyA"
      },
      "source": [
        "Um ano é bissexto se for divisível por 4. Exceção a essa regra são os anos divisíveis por 100, os quais não são bissextos. Exceção a essa segunda regra são os anos divisíves por 400, os quais são bissextos. Escreva um programa que leia um número e escreva se ele corresponde ou não a um ano bissexto. É possíve usar um único \"if\" com condição composta para determinar se o ano é bissexto."
      ]
    },
    {
      "cell_type": "code",
      "metadata": {
        "id": "PCZd_K8x0-Dz"
      },
      "source": [],
      "execution_count": null,
      "outputs": []
    },
    {
      "cell_type": "markdown",
      "metadata": {
        "id": "IhlP7aRD15Z6"
      },
      "source": [
        "Faça um programa para calcular o Índice de Massa Corporal (IMC) que é uma medida utilizada pela Organização Mundial de Saúde para avaliar o grau de obseidade de um indivíduo. O IMC é calculado pela relação entre o peso (em kg) dividido pelo quadrado da altura (em metros) do indivíduo. Uma vez calculdo o IMC, imprima-o e também informe a classificação resultante seundo a tabela fornecida pelo Sistema de Vigilância Alimentar Nutricional:\n",
        "\n",
        "  * IMC < 18.5: Adulto com baixo peso.\n",
        "  * 18.5 <= IMC < 25: Adulto com peso adequado\n",
        "  * 25 <= IMC < 30. Adulto com sobrepeso\n",
        "  * IMC >= 30: Adulto com obsesidade"
      ]
    },
    {
      "cell_type": "code",
      "metadata": {
        "id": "SozK0Iccz4AM"
      },
      "source": [],
      "execution_count": null,
      "outputs": []
    }
  ]
}